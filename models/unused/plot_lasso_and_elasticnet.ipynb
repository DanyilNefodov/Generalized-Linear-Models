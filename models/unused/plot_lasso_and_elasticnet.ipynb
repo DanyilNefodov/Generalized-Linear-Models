{
 "cells": [
  {
   "cell_type": "code",
   "execution_count": null,
   "metadata": {
    "jupyter": {
     "outputs_hidden": false
    }
   },
   "outputs": [],
   "source": [
    "%matplotlib inline"
   ]
  },
  {
   "cell_type": "markdown",
   "metadata": {},
   "source": [
    "\n",
    "# Lasso and Elastic Net for Sparse Signals\n",
    "\n",
    "\n",
    "Estimates Lasso and Elastic-Net regression models on a manually generated\n",
    "sparse signal corrupted with an additive noise. Estimated coefficients are\n",
    "compared with the ground-truth.\n"
   ]
  },
  {
   "cell_type": "code",
   "execution_count": 16,
   "metadata": {
    "jupyter": {
     "outputs_hidden": false
    }
   },
   "outputs": [
    {
     "name": "stdout",
     "output_type": "stream",
     "text": [
      "Lasso(alpha=0.1, copy_X=True, fit_intercept=True, max_iter=1000,\n",
      "      normalize=False, positive=False, precompute=False, random_state=None,\n",
      "      selection='cyclic', tol=0.0001, warm_start=False)\n",
      "r^2 on test data : 0.658064\n",
      "ElasticNet(alpha=0.1, copy_X=True, fit_intercept=True, l1_ratio=0.7,\n",
      "           max_iter=1000, normalize=False, positive=False, precompute=False,\n",
      "           random_state=None, selection='cyclic', tol=0.0001, warm_start=False)\n",
      "r^2 on test data : 0.642515\n"
     ]
    },
    {
     "data": {
      "image/png": "[encoded data removed]",
      "text/plain": [
       "<Figure size 432x288 with 1 Axes>"
      ]
     },
     "metadata": {
      "needs_background": "light"
     },
     "output_type": "display_data"
    }
   ],
   "source": [
    "import numpy as np\n",
    "import matplotlib.pyplot as plt\n",
    "\n",
    "from sklearn.metrics import r2_score\n",
    "\n",
    "np.random.seed(42)\n",
    "\n",
    "n_samples, n_features = 50, 100\n",
    "X = np.random.randn(n_samples, n_features)\n",
    "\n",
    "# Decreasing coef w. alternated signs for visualization\n",
    "idx = np.arange(n_features)\n",
    "coef = (-1) ** idx * np.exp(-idx / 10)\n",
    "coef[10:] = 0  # sparsify coef\n",
    "y = np.dot(X, coef)\n",
    "\n",
    "# Add noise\n",
    "y += 0.01 * np.random.normal(size=n_samples)\n",
    "\n",
    "# Split data in train set and test set\n",
    "n_samples = X.shape[0]\n",
    "X_train, y_train = X[:n_samples // 2], y[:n_samples // 2]\n",
    "X_test, y_test = X[n_samples // 2:], y[n_samples // 2:]\n",
    "\n",
    "from sklearn.linear_model import Lasso\n",
    "\n",
    "alpha = 0.1\n",
    "lasso = Lasso(alpha=alpha)\n",
    "\n",
    "y_pred_lasso = lasso.fit(X_train, y_train).predict(X_test)\n",
    "r2_score_lasso = r2_score(y_test, y_pred_lasso)\n",
    "print(lasso)\n",
    "print(\"r^2 on test data : %f\" % r2_score_lasso)\n",
    "\n",
    "from sklearn.linear_model import ElasticNet\n",
    "\n",
    "enet = ElasticNet(alpha=alpha, l1_ratio=0.7)\n",
    "\n",
    "y_pred_enet = enet.fit(X_train, y_train).predict(X_test)\n",
    "r2_score_enet = r2_score(y_test, y_pred_enet)\n",
    "print(enet)\n",
    "print(\"r^2 on test data : %f\" % r2_score_enet)\n",
    "\n",
    "m, s, _ = plt.stem(np.where(enet.coef_)[0], enet.coef_[enet.coef_ != 0],\n",
    "                   markerfmt='x', label='Elastic net coefficients',\n",
    "                   use_line_collection=True)\n",
    "plt.setp([m, s], color=\"#2ca02c\")\n",
    "m, s, _ = plt.stem(np.where(lasso.coef_)[0], lasso.coef_[lasso.coef_ != 0],\n",
    "                   markerfmt='x', label='Lasso coefficients',\n",
    "                   use_line_collection=True)\n",
    "plt.setp([m, s], color='#ff7f0e')\n",
    "plt.stem(np.where(coef)[0], coef[coef != 0], label='true coefficients',\n",
    "         markerfmt='bx', use_line_collection=True)\n",
    "\n",
    "plt.legend(loc='best')\n",
    "plt.title(\"Lasso $R^2$: %.4f, Elastic Net $R^2$: %.4f\"\n",
    "          % (r2_score_lasso, r2_score_enet))\n",
    "plt.show()"
   ]
  }
 ],
 "metadata": {
  "kernelspec": {
   "display_name": "Python 3",
   "language": "python",
   "name": "python3"
  },
  "language_info": {
   "codemirror_mode": {
    "name": "ipython",
    "version": 3
   },
   "file_extension": ".py",
   "mimetype": "text/x-python",
   "name": "python",
   "nbconvert_exporter": "python",
   "pygments_lexer": "ipython3",
   "version": "3.7.5"
  }
 },
 "nbformat": 4,
 "nbformat_minor": 4
}
